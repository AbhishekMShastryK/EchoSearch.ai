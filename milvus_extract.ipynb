{
 "cells": [
  {
   "cell_type": "code",
   "execution_count": 5,
   "metadata": {},
   "outputs": [
    {
     "name": "stdout",
     "output_type": "stream",
     "text": [
      "Connecting to Milvus...\n",
      "Loading collection data...\n",
      "Querying data from Milvus...\n",
      "Converting data for JSON serialization...\n",
      "Converting data to DataFrame...\n",
      "Saving data to files...\n",
      "Data saved to milvus_extracted_data.json\n"
     ]
    }
   ],
   "source": [
    "import pandas as pd\n",
    "from pymilvus import connections, Collection\n",
    "import json\n",
    "\n",
    "try:\n",
    "    # Step 1: Connect to Milvus\n",
    "    print(\"Connecting to Milvus...\")\n",
    "    connections.connect(host='127.0.0.1', port='19530')  # Update host and port as necessary\n",
    "\n",
    "    # Step 2: Load the Collection\n",
    "    collection_name = \"gaits_lecture_data_collection\"\n",
    "    collection = Collection(name=collection_name)\n",
    "\n",
    "    # Step 3: Load Collection Data\n",
    "    print(\"Loading collection data...\")\n",
    "    collection.load()\n",
    "\n",
    "    # Query all data from the collection\n",
    "    print(\"Querying data from Milvus...\")\n",
    "    results = collection.query(\n",
    "        expr=\"id >= 0\",  # Fetch all data (modify expr if you want specific filters)\n",
    "        output_fields=[\n",
    "            \"id\",\n",
    "            \"lecture_name\",\n",
    "            \"video_name\",\n",
    "            \"start_time\",\n",
    "            \"end_time\",\n",
    "            \"lecture_summary\",\n",
    "            \"whole_video_summary\",\n",
    "            \"lecture_embedding\"\n",
    "        ]\n",
    "    )\n",
    "\n",
    "    # Step 4: Convert Data for JSON Serialization\n",
    "    print(\"Converting data for JSON serialization...\")\n",
    "    for record in results:\n",
    "        if \"lecture_embedding\" in record:\n",
    "            record[\"lecture_embedding\"] = [float(x) for x in record[\"lecture_embedding\"]]  # Convert to JSON-compatible float\n",
    "\n",
    "    # Step 5: Convert Data to Pandas DataFrame\n",
    "    print(\"Converting data to DataFrame...\")\n",
    "    df = pd.DataFrame(results)\n",
    "\n",
    "    # Step 6: Save Data to a File\n",
    "    print(\"Saving data to files...\")\n",
    "\n",
    "    # Save to JSON\n",
    "    json_path = \"milvus_extracted_data.json\"\n",
    "    with open(json_path, \"w\") as f:\n",
    "        json.dump(results, f, indent=4)\n",
    "    print(f\"Data saved to {json_path}\")\n",
    "\n",
    "except Exception as e:\n",
    "    print(f\"An error occurred: {e}\")"
   ]
  },
  {
   "cell_type": "code",
   "execution_count": null,
   "metadata": {},
   "outputs": [],
   "source": []
  }
 ],
 "metadata": {
  "kernelspec": {
   "display_name": "gaitenv",
   "language": "python",
   "name": "python3"
  },
  "language_info": {
   "codemirror_mode": {
    "name": "ipython",
    "version": 3
   },
   "file_extension": ".py",
   "mimetype": "text/x-python",
   "name": "python",
   "nbconvert_exporter": "python",
   "pygments_lexer": "ipython3",
   "version": "3.12.4"
  }
 },
 "nbformat": 4,
 "nbformat_minor": 2
}
