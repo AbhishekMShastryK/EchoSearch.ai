{
 "cells": [
  {
   "cell_type": "code",
   "execution_count": null,
   "metadata": {},
   "outputs": [
    {
     "name": "stdout",
     "output_type": "stream",
     "text": [
      "Generating embeddings...\n"
     ]
    },
    {
     "name": "stderr",
     "output_type": "stream",
     "text": [
      "Embedding Progress: 100%|██████████| 531/531 [06:07<00:00,  1.44it/s]\n"
     ]
    },
    {
     "name": "stdout",
     "output_type": "stream",
     "text": [
      "Connecting to Milvus...\n",
      "Inserting data into Milvus...\n",
      "Creating index...\n",
      "Data and embeddings have been successfully uploaded to Milvus.\n"
     ]
    }
   ],
   "source": [
    "import pandas as pd\n",
    "from pymilvus import connections, FieldSchema, CollectionSchema, DataType, Collection\n",
    "from openai import OpenAI\n",
    "import numpy as np\n",
    "from tqdm import tqdm\n",
    "from secret import OPENAI_API_KEY\n",
    "\n",
    "try:\n",
    "    # Step 1: Load the Excel File\n",
    "    file_path = 'merged_lecture_summaries.xlsx'  # Replace with the actual file path\n",
    "    df = pd.read_excel(file_path)\n",
    "\n",
    "    # Step 2: Generate Embeddings for Lecture Summaries with Progress Bar\n",
    "    def generate_embeddings(text):\n",
    "        client = OpenAI(\n",
    "            api_key=OPENAI_API_KEY,\n",
    "        )\n",
    "        response = client.embeddings.create(\n",
    "            input=text,\n",
    "            model=\"text-embedding-3-small\"\n",
    "        )\n",
    "        embedding = response.data[0].embedding\n",
    "        norm = np.linalg.norm(embedding)\n",
    "        normalized_embedding = (embedding / norm).tolist() if norm != 0 else embedding.tolist()\n",
    "        return normalized_embedding\n",
    "\n",
    "    print(\"Generating embeddings...\")\n",
    "    tqdm.pandas(desc=\"Embedding Progress\")\n",
    "    df['lecture_embedding'] = df['lecture_summary'].progress_apply(generate_embeddings)\n",
    "\n",
    "    # Step 3: Connect to Milvus\n",
    "    print(\"Connecting to Milvus...\")\n",
    "    connections.connect(host='127.0.0.1', port='19530')  # Update host and port as necessary\n",
    "\n",
    "    # Step 4: Create Milvus Collection\n",
    "    collection_name = \"gaits_lecture_data_collection\"\n",
    "\n",
    "    # Replace empty or NaN values with default placeholders\n",
    "    df['lecture_summary'] = df['lecture_summary'].fillna(\"\")\n",
    "    df['whole_video_summary'] = df['whole_video_summary'].fillna(\"\")\n",
    "    df['lecture_embedding'] = df['lecture_embedding'].apply(lambda x: x if x else [0.0] * 1536)  # Replace empty embeddings with a zero vector\n",
    "    df[\"lecture_name\"] = \"GAIT: Generative AI Tools\"\n",
    "\n",
    "    fields = [\n",
    "        FieldSchema(name=\"id\", dtype=DataType.INT64, is_primary=True, auto_id=True),\n",
    "        FieldSchema(name=\"lecture_name\", dtype=DataType.VARCHAR, max_length=500),\n",
    "        FieldSchema(name=\"video_name\", dtype=DataType.VARCHAR, max_length=500),\n",
    "        FieldSchema(name=\"start_time\", dtype=DataType.INT64, max_length=100),\n",
    "        FieldSchema(name=\"end_time\", dtype=DataType.INT64, max_length=100),\n",
    "        FieldSchema(name=\"lecture_summary\", dtype=DataType.VARCHAR, max_length=6000),\n",
    "        FieldSchema(name=\"whole_video_summary\", dtype=DataType.VARCHAR, max_length=6000),\n",
    "        FieldSchema(name=\"lecture_embedding\", dtype=DataType.FLOAT_VECTOR, dim=1536),  # Adjust `dim` to match your embedding size\n",
    "    ]\n",
    "\n",
    "    schema = CollectionSchema(fields, description=\"Lecture Data Collection\")\n",
    "    collection = Collection(name=collection_name, schema=schema)\n",
    "\n",
    "    # Step 5: Insert Data into the Collection with Progress Bar\n",
    "    print(\"Inserting data into Milvus...\")\n",
    "    data_to_insert = [\n",
    "        df[\"lecture_name\"].tolist(),\n",
    "        df['video_name'].tolist(),\n",
    "        df['start_time'].tolist(),\n",
    "        df['end_time'].tolist(),\n",
    "        df['lecture_summary'].tolist(),\n",
    "        df['whole_video_summary'].tolist(),\n",
    "        df['lecture_embedding'].tolist(),\n",
    "    ]\n",
    "    \n",
    "    collection.insert(data_to_insert)\n",
    "\n",
    "    # Step 6: Build the Index for Fast Search\n",
    "    print(\"Creating index...\")\n",
    "    index_params = {\"index_type\": \"IVF_FLAT\", \"metric_type\": \"IP\", \"params\": {\"nlist\": 128}}\n",
    "    collection.create_index(field_name=\"lecture_embedding\", index_params=index_params)\n",
    "\n",
    "    # Step 7: Load and Verify Collection\n",
    "    collection.load()\n",
    "    print(\"Data and embeddings have been successfully uploaded to Milvus.\")\n",
    "\n",
    "except Exception as e:\n",
    "    print(f\"An error occurred: {e}\")\n"
   ]
  }
 ],
 "metadata": {
  "kernelspec": {
   "display_name": "gaitenv",
   "language": "python",
   "name": "python3"
  },
  "language_info": {
   "codemirror_mode": {
    "name": "ipython",
    "version": 3
   },
   "file_extension": ".py",
   "mimetype": "text/x-python",
   "name": "python",
   "nbconvert_exporter": "python",
   "pygments_lexer": "ipython3",
   "version": "3.12.4"
  }
 },
 "nbformat": 4,
 "nbformat_minor": 2
}
