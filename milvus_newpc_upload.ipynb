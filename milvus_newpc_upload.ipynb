{
 "cells": [
  {
   "cell_type": "code",
   "execution_count": 1,
   "metadata": {},
   "outputs": [
    {
     "name": "stdout",
     "output_type": "stream",
     "text": [
      "Connecting to Milvus...\n",
      "Creating collection...\n",
      "Preparing data for insertion...\n",
      "Inserting data into Milvus...\n",
      "Creating index...\n",
      "Data successfully inserted and indexed in Milvus.\n"
     ]
    }
   ],
   "source": [
    "import pandas as pd\n",
    "from pymilvus import connections, FieldSchema, CollectionSchema, DataType, Collection\n",
    "import json\n",
    "\n",
    "try:\n",
    "    # Step 1: Connect to Milvus\n",
    "    print(\"Connecting to Milvus...\")\n",
    "    connections.connect(host='127.0.0.1', port='19530')  # Update host and port as necessary\n",
    "\n",
    "    # Step 2: Define Collection Schema\n",
    "    collection_name = \"gaits_lecture_data_collection\"\n",
    "\n",
    "    fields = [\n",
    "        FieldSchema(name=\"id\", dtype=DataType.INT64, is_primary=True, auto_id=True),\n",
    "        FieldSchema(name=\"lecture_name\", dtype=DataType.VARCHAR, max_length=500),\n",
    "        FieldSchema(name=\"video_name\", dtype=DataType.VARCHAR, max_length=500),\n",
    "        FieldSchema(name=\"start_time\", dtype=DataType.INT64),\n",
    "        FieldSchema(name=\"end_time\", dtype=DataType.INT64),\n",
    "        FieldSchema(name=\"lecture_summary\", dtype=DataType.VARCHAR, max_length=6000),\n",
    "        FieldSchema(name=\"whole_video_summary\", dtype=DataType.VARCHAR, max_length=6000),\n",
    "        FieldSchema(name=\"lecture_embedding\", dtype=DataType.FLOAT_VECTOR, dim=1536),  # Adjust `dim` to match your embedding size\n",
    "    ]\n",
    "\n",
    "    schema = CollectionSchema(fields, description=\"Lecture Data Collection\")\n",
    "\n",
    "    # Step 3: Create Collection\n",
    "    print(\"Creating collection...\")\n",
    "    collection = Collection(name=collection_name, schema=schema)\n",
    "\n",
    "    # Step 4: Prepare Data for Insertion\n",
    "    print(\"Preparing data for insertion...\")\n",
    "    file_path = \"milvus_extracted_data.json\"  # Replace with the actual file path to the JSON file\n",
    "\n",
    "    with open(file_path, \"r\") as f:\n",
    "        data = json.load(f)\n",
    "\n",
    "    # Ensure embeddings are converted back to float32\n",
    "    for record in data:\n",
    "        record[\"lecture_embedding\"] = [float(x) for x in record[\"lecture_embedding\"]]\n",
    "\n",
    "    # Organize data into fields for insertion\n",
    "    data_to_insert = [\n",
    "        [record.get(\"lecture_name\", \"\") for record in data],\n",
    "        [record.get(\"video_name\", \"\") for record in data],\n",
    "        [record.get(\"start_time\", 0) for record in data],\n",
    "        [record.get(\"end_time\", 0) for record in data],\n",
    "        [record.get(\"lecture_summary\", \"\") for record in data],\n",
    "        [record.get(\"whole_video_summary\", \"\") for record in data],\n",
    "        [record.get(\"lecture_embedding\", [0.0] * 1536) for record in data],\n",
    "    ]\n",
    "\n",
    "    # Step 5: Insert Data\n",
    "    print(\"Inserting data into Milvus...\")\n",
    "    collection.insert(data_to_insert)\n",
    "\n",
    "    # Step 6: Build the Index for Fast Search\n",
    "    print(\"Creating index...\")\n",
    "    index_params = {\"index_type\": \"IVF_FLAT\", \"metric_type\": \"IP\", \"params\": {\"nlist\": 128}}\n",
    "    collection.create_index(field_name=\"lecture_embedding\", index_params=index_params)\n",
    "\n",
    "    # Step 7: Load the Collection\n",
    "    collection.load()\n",
    "    print(\"Data successfully inserted and indexed in Milvus.\")\n",
    "\n",
    "except Exception as e:\n",
    "    print(f\"An error occurred: {e}\")\n"
   ]
  }
 ],
 "metadata": {
  "kernelspec": {
   "display_name": "echo",
   "language": "python",
   "name": "python3"
  },
  "language_info": {
   "codemirror_mode": {
    "name": "ipython",
    "version": 3
   },
   "file_extension": ".py",
   "mimetype": "text/x-python",
   "name": "python",
   "nbconvert_exporter": "python",
   "pygments_lexer": "ipython3",
   "version": "3.11.5"
  }
 },
 "nbformat": 4,
 "nbformat_minor": 2
}
